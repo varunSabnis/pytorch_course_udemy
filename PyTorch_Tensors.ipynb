{
  "nbformat": 4,
  "nbformat_minor": 0,
  "metadata": {
    "colab": {
      "name": "PyTorch-Tensors.ipynb",
      "provenance": [],
      "collapsed_sections": [],
      "include_colab_link": true
    },
    "kernelspec": {
      "name": "python3",
      "display_name": "Python 3"
    }
  },
  "cells": [
    {
      "cell_type": "markdown",
      "metadata": {
        "id": "view-in-github",
        "colab_type": "text"
      },
      "source": [
        "<a href=\"https://colab.research.google.com/github/varunSabnis/pytorch_course_udemy/blob/master/PyTorch_Tensors.ipynb\" target=\"_parent\"><img src=\"https://colab.research.google.com/assets/colab-badge.svg\" alt=\"Open In Colab\"/></a>"
      ]
    },
    {
      "cell_type": "code",
      "metadata": {
        "id": "c5SDBxPlZ15f",
        "colab_type": "code",
        "outputId": "63750ebb-6461-4ed3-ef37-87fe081eba51",
        "colab": {
          "base_uri": "https://localhost:8080/",
          "height": 51
        }
      },
      "source": [
        "!pip3 install torch"
      ],
      "execution_count": 2,
      "outputs": [
        {
          "output_type": "stream",
          "text": [
            "Requirement already satisfied: torch in /usr/local/lib/python3.6/dist-packages (1.3.1)\n",
            "Requirement already satisfied: numpy in /usr/local/lib/python3.6/dist-packages (from torch) (1.17.4)\n"
          ],
          "name": "stdout"
        }
      ]
    },
    {
      "cell_type": "code",
      "metadata": {
        "id": "gnwm0601aO8e",
        "colab_type": "code",
        "colab": {}
      },
      "source": [
        "import torch\n",
        "import numpy as np"
      ],
      "execution_count": 0,
      "outputs": []
    },
    {
      "cell_type": "code",
      "metadata": {
        "id": "V8DPNfAkbM1t",
        "colab_type": "code",
        "outputId": "1b21695e-b12f-4674-caaa-d1bcee2e8572",
        "colab": {
          "base_uri": "https://localhost:8080/",
          "height": 51
        }
      },
      "source": [
        "x = torch.tensor([1,2,3,4,5,6])\n",
        "print(\"Tensor is {}\".format(x))\n",
        "print(\"Tensor datatype {}\".format(x.dtype))"
      ],
      "execution_count": 4,
      "outputs": [
        {
          "output_type": "stream",
          "text": [
            "Tensor is tensor([1, 2, 3, 4, 5, 6])\n",
            "Tensor datatype torch.int64\n"
          ],
          "name": "stdout"
        }
      ]
    },
    {
      "cell_type": "code",
      "metadata": {
        "id": "SN2TnRQlav-x",
        "colab_type": "code",
        "outputId": "c9807479-51ab-4133-fdf0-a59396d40ca7",
        "colab": {
          "base_uri": "https://localhost:8080/",
          "height": 51
        }
      },
      "source": [
        "y = torch.FloatTensor([1,2,3,4,5,6])\n",
        "print(y)\n",
        "print(y.size())"
      ],
      "execution_count": 5,
      "outputs": [
        {
          "output_type": "stream",
          "text": [
            "tensor([1., 2., 3., 4., 5., 6.])\n",
            "torch.Size([6])\n"
          ],
          "name": "stdout"
        }
      ]
    },
    {
      "cell_type": "code",
      "metadata": {
        "id": "8fjxWgbRb7Qk",
        "colab_type": "code",
        "outputId": "89c3e3ef-e5a6-4e83-db3e-3595cb0859ac",
        "colab": {
          "base_uri": "https://localhost:8080/",
          "height": 68
        }
      },
      "source": [
        "x.view(3, -1) #implicit 2"
      ],
      "execution_count": 6,
      "outputs": [
        {
          "output_type": "execute_result",
          "data": {
            "text/plain": [
              "tensor([[1, 2],\n",
              "        [3, 4],\n",
              "        [5, 6]])"
            ]
          },
          "metadata": {
            "tags": []
          },
          "execution_count": 6
        }
      ]
    },
    {
      "cell_type": "code",
      "metadata": {
        "id": "7QKFjM1GiaJz",
        "colab_type": "code",
        "outputId": "0ed3e476-9e50-42b1-f314-34b96c7c25e7",
        "colab": {
          "base_uri": "https://localhost:8080/",
          "height": 51
        }
      },
      "source": [
        "a = np.array([1,2,3,4,5], dtype=np.float64)\n",
        "b = torch.from_numpy(a)\n",
        "print(b)\n",
        "print(b.type())"
      ],
      "execution_count": 7,
      "outputs": [
        {
          "output_type": "stream",
          "text": [
            "tensor([1., 2., 3., 4., 5.], dtype=torch.float64)\n",
            "torch.DoubleTensor\n"
          ],
          "name": "stdout"
        }
      ]
    },
    {
      "cell_type": "code",
      "metadata": {
        "id": "kK-dO9KZlTb9",
        "colab_type": "code",
        "outputId": "d378b3ff-a54c-4e35-dbab-458107bf615f",
        "colab": {
          "base_uri": "https://localhost:8080/",
          "height": 34
        }
      },
      "source": [
        "numpy_cnv = b.numpy()\n",
        "print(numpy_cnv)"
      ],
      "execution_count": 8,
      "outputs": [
        {
          "output_type": "stream",
          "text": [
            "[1. 2. 3. 4. 5.]\n"
          ],
          "name": "stdout"
        }
      ]
    },
    {
      "cell_type": "code",
      "metadata": {
        "id": "OyUiwK-JvI5t",
        "colab_type": "code",
        "colab": {
          "base_uri": "https://localhost:8080/",
          "height": 102
        },
        "outputId": "13c1cdd4-45bc-498d-a42f-c6ac2a41b58a"
      },
      "source": [
        "one_d = torch.arange(0, 9)\n",
        "two_d = one_d.view(3,3)\n",
        "print(\"Number of dimensions of tensor {}\".format(two_d.dim()))\n",
        "print(\"2D tensor {}\".format(two_d))\n",
        "print(\"Indexing 2d tensor at 1,2 - {}\".format(two_d[1, 2]))"
      ],
      "execution_count": 9,
      "outputs": [
        {
          "output_type": "stream",
          "text": [
            "Number of dimensions of tensor 2\n",
            "2D tensor tensor([[0, 1, 2],\n",
            "        [3, 4, 5],\n",
            "        [6, 7, 8]])\n",
            "Indexing 2d tensor at 1,2 - 5\n"
          ],
          "name": "stdout"
        }
      ]
    },
    {
      "cell_type": "code",
      "metadata": {
        "id": "txXC2xbIwDNB",
        "colab_type": "code",
        "colab": {
          "base_uri": "https://localhost:8080/",
          "height": 204
        },
        "outputId": "b884b754-90f6-4969-eef1-cdd3090a2704"
      },
      "source": [
        "three_d = torch.arange(18).view(3,3,2)\n",
        "three_d"
      ],
      "execution_count": 10,
      "outputs": [
        {
          "output_type": "execute_result",
          "data": {
            "text/plain": [
              "tensor([[[ 0,  1],\n",
              "         [ 2,  3],\n",
              "         [ 4,  5]],\n",
              "\n",
              "        [[ 6,  7],\n",
              "         [ 8,  9],\n",
              "         [10, 11]],\n",
              "\n",
              "        [[12, 13],\n",
              "         [14, 15],\n",
              "         [16, 17]]])"
            ]
          },
          "metadata": {
            "tags": []
          },
          "execution_count": 10
        }
      ]
    },
    {
      "cell_type": "code",
      "metadata": {
        "id": "_HGQI2mpzV6k",
        "colab_type": "code",
        "colab": {
          "base_uri": "https://localhost:8080/",
          "height": 102
        },
        "outputId": "5bb35f7b-914f-4c57-8fbc-076dec73c0ae"
      },
      "source": [
        "#slicing, indexing, segmenting\n",
        "three_d[:2,0:2,0:1]\n",
        "# three_d[1]\n",
        "# three_d[1,:,0:1]\n",
        "# three_d[1,:,:]"
      ],
      "execution_count": 19,
      "outputs": [
        {
          "output_type": "execute_result",
          "data": {
            "text/plain": [
              "tensor([[[0],\n",
              "         [2]],\n",
              "\n",
              "        [[6],\n",
              "         [8]]])"
            ]
          },
          "metadata": {
            "tags": []
          },
          "execution_count": 19
        }
      ]
    },
    {
      "cell_type": "code",
      "metadata": {
        "id": "1lBDf1RI90BH",
        "colab_type": "code",
        "colab": {
          "base_uri": "https://localhost:8080/",
          "height": 85
        },
        "outputId": "24d4c14b-ff3e-49a2-8237-bdd9d85321ee"
      },
      "source": [
        "#matrix multiplication\n",
        "mat_a = torch.tensor([1, 2, 3, 4, 5, 6]).view(2, 3)\n",
        "mat_b = torch.tensor([1, 2, 3, 4, 5, 6]).view(3, 2)\n",
        "\n",
        "res = torch.matmul(mat_a, mat_b)\n",
        "print(res)\n",
        "\n",
        "#simpler form\n",
        "print(mat_a @ mat_b)"
      ],
      "execution_count": 22,
      "outputs": [
        {
          "output_type": "stream",
          "text": [
            "tensor([[22, 28],\n",
            "        [49, 64]])\n",
            "tensor([[22, 28],\n",
            "        [49, 64]])\n"
          ],
          "name": "stdout"
        }
      ]
    },
    {
      "cell_type": "code",
      "metadata": {
        "id": "YPHzNzYbAs94",
        "colab_type": "code",
        "colab": {}
      },
      "source": [
        ""
      ],
      "execution_count": 0,
      "outputs": []
    }
  ]
}