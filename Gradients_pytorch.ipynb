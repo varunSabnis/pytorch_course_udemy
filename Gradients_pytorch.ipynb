{
  "nbformat": 4,
  "nbformat_minor": 0,
  "metadata": {
    "colab": {
      "name": "Gradients_pytorch.ipynb",
      "provenance": [],
      "include_colab_link": true
    },
    "kernelspec": {
      "name": "python3",
      "display_name": "Python 3"
    }
  },
  "cells": [
    {
      "cell_type": "markdown",
      "metadata": {
        "id": "view-in-github",
        "colab_type": "text"
      },
      "source": [
        "<a href=\"https://colab.research.google.com/github/varunSabnis/pytorch_course_udemy/blob/master/Gradients_pytorch.ipynb\" target=\"_parent\"><img src=\"https://colab.research.google.com/assets/colab-badge.svg\" alt=\"Open In Colab\"/></a>"
      ]
    },
    {
      "cell_type": "code",
      "metadata": {
        "id": "LcSOODxVCfgA",
        "colab_type": "code",
        "colab": {
          "base_uri": "https://localhost:8080/",
          "height": 51
        },
        "outputId": "46310d98-1d0a-46f6-9b92-460b19baa7f4"
      },
      "source": [
        "!pip install torch"
      ],
      "execution_count": 1,
      "outputs": [
        {
          "output_type": "stream",
          "text": [
            "Requirement already satisfied: torch in /usr/local/lib/python3.6/dist-packages (1.3.1)\n",
            "Requirement already satisfied: numpy in /usr/local/lib/python3.6/dist-packages (from torch) (1.17.4)\n"
          ],
          "name": "stdout"
        }
      ]
    },
    {
      "cell_type": "code",
      "metadata": {
        "id": "au63lmq-C3-4",
        "colab_type": "code",
        "colab": {}
      },
      "source": [
        "import torch"
      ],
      "execution_count": 0,
      "outputs": []
    },
    {
      "cell_type": "code",
      "metadata": {
        "id": "v8llkKRfC39b",
        "colab_type": "code",
        "colab": {
          "base_uri": "https://localhost:8080/",
          "height": 34
        },
        "outputId": "944a9607-2798-4db6-80f2-08c548418016"
      },
      "source": [
        "x = torch.tensor(2.0, requires_grad=True)\n",
        "y = 4*x**4 + 5*x**3 + 2*x**2 + 12*x + 30\n",
        "y.backward()\n",
        "x.grad"
      ],
      "execution_count": 3,
      "outputs": [
        {
          "output_type": "execute_result",
          "data": {
            "text/plain": [
              "tensor(208.)"
            ]
          },
          "metadata": {
            "tags": []
          },
          "execution_count": 3
        }
      ]
    },
    {
      "cell_type": "code",
      "metadata": {
        "id": "6OBjKSzdC36l",
        "colab_type": "code",
        "colab": {
          "base_uri": "https://localhost:8080/",
          "height": 51
        },
        "outputId": "961b529b-da38-49eb-9e06-34295a99538e"
      },
      "source": [
        "#partial derivatives\n",
        "x = torch.tensor(2.0, requires_grad=True)\n",
        "z = torch.tensor(3.0, requires_grad=True)\n",
        "y = 4*x**3 + 3*z**2 + 5\n",
        "y.backward()\n",
        "print(\"Partial derivative with respect to x {}\".format(x.grad))\n",
        "print(\"Partial derivative with respect to z {}\".format(z.grad))\n"
      ],
      "execution_count": 5,
      "outputs": [
        {
          "output_type": "stream",
          "text": [
            "Partial derivative with respect to x 48.0\n",
            "Partial derivative with respect to z 18.0\n"
          ],
          "name": "stdout"
        }
      ]
    }
  ]
}