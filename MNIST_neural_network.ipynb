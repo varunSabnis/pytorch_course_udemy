{
  "nbformat": 4,
  "nbformat_minor": 0,
  "metadata": {
    "colab": {
      "name": "MNIST_neural_network.ipynb",
      "provenance": [],
      "collapsed_sections": [],
      "authorship_tag": "ABX9TyNe3bOEKKzJYa4xIbhkExWt",
      "include_colab_link": true
    },
    "kernelspec": {
      "name": "python3",
      "display_name": "Python 3"
    }
  },
  "cells": [
    {
      "cell_type": "markdown",
      "metadata": {
        "id": "view-in-github",
        "colab_type": "text"
      },
      "source": [
        "<a href=\"https://colab.research.google.com/github/varunSabnis/pytorch_course_udemy/blob/master/MNIST_neural_network.ipynb\" target=\"_parent\"><img src=\"https://colab.research.google.com/assets/colab-badge.svg\" alt=\"Open In Colab\"/></a>"
      ]
    },
    {
      "cell_type": "code",
      "metadata": {
        "id": "ZIA_JWMqzFoq",
        "colab_type": "code",
        "outputId": "95c42cdd-6bf1-4665-b217-190d5c263922",
        "colab": {
          "base_uri": "https://localhost:8080/",
          "height": 343
        }
      },
      "source": [
        "!pip install torch torchvision"
      ],
      "execution_count": 4,
      "outputs": [
        {
          "output_type": "stream",
          "text": [
            "Requirement already satisfied: torch in /usr/local/lib/python3.6/dist-packages (1.4.0)\n",
            "Requirement already satisfied: torchvision in /usr/local/lib/python3.6/dist-packages (0.5.0)\n",
            "Requirement already satisfied: six in /usr/local/lib/python3.6/dist-packages (from torchvision) (1.12.0)\n",
            "Collecting pillow>=4.1.1\n",
            "\u001b[?25l  Downloading https://files.pythonhosted.org/packages/19/5e/23dcc0ce3cc2abe92efd3cd61d764bee6ccdf1b667a1fb566f45dc249953/Pillow-7.0.0-cp36-cp36m-manylinux1_x86_64.whl (2.1MB)\n",
            "\u001b[K     |████████████████████████████████| 2.1MB 2.7MB/s \n",
            "\u001b[?25hRequirement already satisfied: numpy in /usr/local/lib/python3.6/dist-packages (from torchvision) (1.17.5)\n",
            "\u001b[31mERROR: albumentations 0.1.12 has requirement imgaug<0.2.7,>=0.2.5, but you'll have imgaug 0.2.9 which is incompatible.\u001b[0m\n",
            "Installing collected packages: pillow\n",
            "  Found existing installation: Pillow 4.0.0\n",
            "    Uninstalling Pillow-4.0.0:\n",
            "      Successfully uninstalled Pillow-4.0.0\n",
            "Successfully installed pillow-7.0.0\n"
          ],
          "name": "stdout"
        },
        {
          "output_type": "display_data",
          "data": {
            "application/vnd.colab-display-data+json": {
              "pip_warning": {
                "packages": [
                  "PIL"
                ]
              }
            }
          },
          "metadata": {
            "tags": []
          }
        }
      ]
    },
    {
      "cell_type": "code",
      "metadata": {
        "id": "zx8TVMqN9mv2",
        "colab_type": "code",
        "colab": {}
      },
      "source": [
        "import torch\n",
        "from torchvision import datasets, transforms\n",
        "from torch import nn\n",
        "from torch.nn import functional as F\n",
        "import numpy as np\n",
        "import matplotlib.pyplot as plt"
      ],
      "execution_count": 0,
      "outputs": []
    },
    {
      "cell_type": "code",
      "metadata": {
        "id": "KivfuO5k97_a",
        "colab_type": "code",
        "colab": {}
      },
      "source": [
        "transform = transforms.Compose([transforms.Resize((28,28)),\n",
        "                                transforms.ToTensor(),\n",
        "                                transforms.Normalize((0.5,), (0.5,))]) # mean and standar deviation of 0.5 for channel 1, here image has only one channel\n",
        "training_dataset = datasets.MNIST(root=\"./data\", train=True, download=True, transform=transform)\n",
        "validation_dataset = datasets.MNIST(root=\"./data\", train=False, download=True, transform=transform)\n",
        "\n",
        "training_loader = torch.utils.data.DataLoader(dataset=training_dataset, batch_size=100, shuffle=True)\n",
        "validation_loader = torch.utils.data.DataLoader(dataset=validation_dataset, batch_size=100, shuffle=False)"
      ],
      "execution_count": 0,
      "outputs": []
    },
    {
      "cell_type": "code",
      "metadata": {
        "id": "aFd0fdk0R4WI",
        "colab_type": "code",
        "colab": {}
      },
      "source": [
        "def image_convert(im_tensor):\n",
        "  image = im_tensor.clone().detach().numpy() \n",
        "  image = image.transpose(1, 2, 0) # Change shape of image from 1*28*28 to 28*28*1\n",
        "  image = image*(np.array((0.5, 0.5, 0.5))) + np.array((0.5, 0.5, 0.5)) \n",
        "  \"\"\"\n",
        "  y = (x - mean)/std\n",
        "  x = y*std + mean  -- this will get back original image that was normalized\n",
        "  \"\"\"\n",
        "  image = image.clip(0, 1) # Keep every pixel between 0 and 1\n",
        "  return image"
      ],
      "execution_count": 0,
      "outputs": []
    },
    {
      "cell_type": "code",
      "metadata": {
        "id": "BpmGCl-RQhh_",
        "colab_type": "code",
        "outputId": "7ae8d282-efaf-46e1-c86d-d0f1ef75a9e9",
        "colab": {
          "base_uri": "https://localhost:8080/",
          "height": 301
        }
      },
      "source": [
        "dataiter = iter(training_loader)\n",
        "images, labels = dataiter.next()\n",
        "fig = plt.figure(figsize=(25, 4))\n",
        "for i in np.arange(20):\n",
        "  ax = fig.add_subplot(2, 10, i+1)\n",
        "  plt.imshow(image_convert(images[i]))\n",
        "  ax.set_title(labels[i].item())\n"
      ],
      "execution_count": 11,
      "outputs": [
        {
          "output_type": "display_data",
          "data": {
            "image/png": "[encoded data removed]",
            "text/plain": [
              "<Figure size 1800x288 with 20 Axes>"
            ]
          },
          "metadata": {
            "tags": []
          }
        }
      ]
    },
    {
      "cell_type": "code",
      "metadata": {
        "id": "5Wk9TRskcIvl",
        "colab_type": "code",
        "colab": {}
      },
      "source": [
        "class Classifier(nn.Module):\n",
        "\n",
        "  def __init__(self, input_size, H1, H2, output_size):\n",
        "    super().__init__()\n",
        "    self.linear1 = nn.Linear(input_size, H1)\n",
        "    self.linear2 = nn.Linear(H1, H2)\n",
        "    self.linear3 = nn.Linear(H2, output_size)\n",
        "\n",
        "  def forward(self, x):\n",
        "    x = F.relu(self.linear1(x))\n",
        "    x = F.relu(self.linear2(x))\n",
        "    x = self.linear3(x)\n",
        "    return x"
      ],
      "execution_count": 0,
      "outputs": []
    },
    {
      "cell_type": "code",
      "metadata": {
        "id": "RpVNBjK1oGdv",
        "colab_type": "code",
        "colab": {}
      },
      "source": [
        "def get_image_shape(images):\n",
        "  image = image_convert(images[0])\n",
        "  im_shape = image.shape[0]*image.shape[1]\n",
        "  return(im_shape)"
      ],
      "execution_count": 0,
      "outputs": []
    },
    {
      "cell_type": "code",
      "metadata": {
        "id": "lAjOQngLlkie",
        "colab_type": "code",
        "outputId": "15cad330-0a86-4a4f-db9f-6e1eaef0b501",
        "colab": {
          "base_uri": "https://localhost:8080/",
          "height": 102
        }
      },
      "source": [
        "im_shape = get_image_shape(images)\n",
        "model = Classifier(im_shape, 125, 65, 10) \n",
        "model "
      ],
      "execution_count": 14,
      "outputs": [
        {
          "output_type": "execute_result",
          "data": {
            "text/plain": [
              "Classifier(\n",
              "  (linear1): Linear(in_features=784, out_features=125, bias=True)\n",
              "  (linear2): Linear(in_features=125, out_features=65, bias=True)\n",
              "  (linear3): Linear(in_features=65, out_features=10, bias=True)\n",
              ")"
            ]
          },
          "metadata": {
            "tags": []
          },
          "execution_count": 14
        }
      ]
    },
    {
      "cell_type": "code",
      "metadata": {
        "id": "uW3ACDejoWNY",
        "colab_type": "code",
        "colab": {}
      },
      "source": [
        "criterion = nn.CrossEntropyLoss()\n",
        "optimizer = torch.optim.Adam(model.parameters(), lr = 0.0001)"
      ],
      "execution_count": 0,
      "outputs": []
    },
    {
      "cell_type": "code",
      "metadata": {
        "id": "8mOTZLW_n-I3",
        "colab_type": "code",
        "outputId": "f57379f9-d421-4ab2-848d-19ad47f799d2",
        "colab": {
          "base_uri": "https://localhost:8080/",
          "height": 459
        }
      },
      "source": [
        "epochs = 12\n",
        "running_loss_history = []\n",
        "running_correct_history = []\n",
        "val_running_loss_history = []\n",
        "val_running_correct_history = []\n",
        "\n",
        "print(\"len of training loader {}\".format(len(training_loader)))\n",
        "print(\"len of validation loader {}\".format(len(validation_loader)))\n",
        "for e in range(epochs):\n",
        "  running_loss = 0.0\n",
        "  running_corrects = 0.0\n",
        "  validation_running_loss = 0.0\n",
        "  validation_running_corrects = 0.0\n",
        "  for inputs, labels in training_loader:\n",
        "    inputs = inputs.view(inputs.shape[0], -1)\n",
        "    outputs = model(inputs)\n",
        "    loss = criterion(outputs, labels)\n",
        "\n",
        "    optimizer.zero_grad()\n",
        "    loss.backward()\n",
        "    optimizer.step()\n",
        "\n",
        "    _, preds = torch.max(outputs, 1)\n",
        "    running_corrects += torch.sum(preds == labels.data)\n",
        "    running_loss += loss.item()\n",
        "  with torch.no_grad():\n",
        "    for val_inputs, val_labels in validation_loader:\n",
        "      val_inputs = val_inputs.view(val_inputs.shape[0], -1)\n",
        "      val_outputs = model(val_inputs)\n",
        "      val_loss = criterion(val_outputs, val_labels)\n",
        "      _, val_preds = torch.max(val_outputs, 1)\n",
        "      validation_running_corrects += torch.sum(val_preds == val_labels.data)\n",
        "      validation_running_loss += val_loss.item()\n",
        "\n",
        "  epoch_loss = running_loss/(len(training_loader))\n",
        "  acc = running_corrects/(len(training_loader))\n",
        "  val_epoch_loss = validation_running_loss/(len(validation_loader))\n",
        "  val_acc = validation_running_corrects/(len(validation_loader))\n",
        "\n",
        "  val_running_loss_history.append(val_epoch_loss)\n",
        "  running_loss_history.append(epoch_loss)\n",
        "  running_correct_history.append(acc)\n",
        "  val_running_correct_history.append(val_acc)\n",
        "\n",
        "  print(\"training loss : {:.4f} training accuracy : {:.2f}\".format(epoch_loss, acc))\n",
        "  print(\"Validation loss : {:.4f} Validation accuracy : {:.2f}\".format(val_epoch_loss, val_acc))"
      ],
      "execution_count": 16,
      "outputs": [
        {
          "output_type": "stream",
          "text": [
            "len of training loader 600\n",
            "len of validation loader 100\n",
            "training loss : 0.9809 training accuracy : 76.24\n",
            "Validation loss : 0.4438 Validation accuracy : 88.52\n",
            "training loss : 0.3948 training accuracy : 89.01\n",
            "Validation loss : 0.3334 Validation accuracy : 90.53\n",
            "training loss : 0.3276 training accuracy : 90.61\n",
            "Validation loss : 0.2965 Validation accuracy : 91.39\n",
            "training loss : 0.2966 training accuracy : 91.36\n",
            "Validation loss : 0.2718 Validation accuracy : 92.05\n",
            "training loss : 0.2739 training accuracy : 92.13\n",
            "Validation loss : 0.2525 Validation accuracy : 92.69\n",
            "training loss : 0.2552 training accuracy : 92.59\n",
            "Validation loss : 0.2387 Validation accuracy : 93.23\n",
            "training loss : 0.2373 training accuracy : 93.14\n",
            "Validation loss : 0.2200 Validation accuracy : 93.70\n",
            "training loss : 0.2210 training accuracy : 93.62\n",
            "Validation loss : 0.2075 Validation accuracy : 93.95\n",
            "training loss : 0.2061 training accuracy : 94.05\n",
            "Validation loss : 0.2001 Validation accuracy : 94.13\n",
            "training loss : 0.1931 training accuracy : 94.36\n",
            "Validation loss : 0.1857 Validation accuracy : 94.63\n",
            "training loss : 0.1809 training accuracy : 94.78\n",
            "Validation loss : 0.1747 Validation accuracy : 94.84\n",
            "training loss : 0.1700 training accuracy : 95.04\n",
            "Validation loss : 0.1648 Validation accuracy : 95.06\n"
          ],
          "name": "stdout"
        }
      ]
    },
    {
      "cell_type": "code",
      "metadata": {
        "id": "ZT6jlgTEcB2g",
        "colab_type": "code",
        "outputId": "4b2a48a5-0d11-4e24-e0b0-23afe7aba750",
        "colab": {
          "base_uri": "https://localhost:8080/",
          "height": 282
        }
      },
      "source": [
        "plt.plot(running_loss_history, label=\"training loss\")\n",
        "plt.plot(val_running_loss_history, label=\"validation loss\")\n",
        "plt.legend()"
      ],
      "execution_count": 12,
      "outputs": [
        {
          "output_type": "execute_result",
          "data": {
            "text/plain": [
              "<matplotlib.legend.Legend at 0x7efb9d78a908>"
            ]
          },
          "metadata": {
            "tags": []
          },
          "execution_count": 12
        },
        {
          "output_type": "display_data",
          "data": {
            "image/png": "[encoded data removed]",
            "text/plain": [
              "<Figure size 432x288 with 1 Axes>"
            ]
          },
          "metadata": {
            "tags": []
          }
        }
      ]
    },
    {
      "cell_type": "code",
      "metadata": {
        "colab_type": "code",
        "outputId": "2c609ed1-0b8a-41a5-d56c-5086dbe564c1",
        "id": "NEupmQbYzslu",
        "colab": {
          "base_uri": "https://localhost:8080/",
          "height": 282
        }
      },
      "source": [
        "plt.plot(running_correct_history, label=\"training accuracy\")\n",
        "plt.plot(val_running_correct_history, label=\"validation accuracy\")"
      ],
      "execution_count": 13,
      "outputs": [
        {
          "output_type": "execute_result",
          "data": {
            "text/plain": [
              "[<matplotlib.lines.Line2D at 0x7efb9ddfb128>]"
            ]
          },
          "metadata": {
            "tags": []
          },
          "execution_count": 13
        },
        {
          "output_type": "display_data",
          "data": {
            "image/png": "[encoded data removed]",
            "text/plain": [
              "<Figure size 432x288 with 1 Axes>"
            ]
          },
          "metadata": {
            "tags": []
          }
        }
      ]
    },
    {
      "cell_type": "code",
      "metadata": {
        "id": "p34UQUw_z7x5",
        "colab_type": "code",
        "colab": {
          "base_uri": "https://localhost:8080/",
          "height": 51
        },
        "outputId": "955da070-3aa9-4e2a-809a-45ece12603e7"
      },
      "source": [
        "!pip3 install pillow==4.0.0"
      ],
      "execution_count": 1,
      "outputs": [
        {
          "output_type": "stream",
          "text": [
            "Requirement already satisfied: pillow==4.0.0 in /usr/local/lib/python3.6/dist-packages (4.0.0)\n",
            "Requirement already satisfied: olefile in /usr/local/lib/python3.6/dist-packages (from pillow==4.0.0) (0.46)\n"
          ],
          "name": "stdout"
        }
      ]
    },
    {
      "cell_type": "code",
      "metadata": {
        "id": "UkKI4Rjoz1KD",
        "colab_type": "code",
        "colab": {}
      },
      "source": [
        "import requests\n",
        "from PIL import Image \n",
        "import PIL.ImageOps"
      ],
      "execution_count": 0,
      "outputs": []
    },
    {
      "cell_type": "code",
      "metadata": {
        "id": "suF_TQsSz1vX",
        "colab_type": "code",
        "colab": {
          "base_uri": "https://localhost:8080/",
          "height": 269
        },
        "outputId": "d06757ce-083c-4f08-8b77-a74d59561e2b"
      },
      "source": [
        "response = requests.get(\"https://images.homedepot-static.com/productImages/007164ea-d47e-4f66-8d8c-fd9f621984a2/svn/architectural-mailboxes-house-letters-numbers-3585b-5-64_1000.jpg\", stream=True)\n",
        "if response.ok:\n",
        "  img = Image.open(response.raw)\n",
        "  plt.imshow(img)"
      ],
      "execution_count": 17,
      "outputs": [
        {
          "output_type": "display_data",
          "data": {
            "image/png": "[encoded data removed]",
            "text/plain": [
              "<Figure size 432x288 with 1 Axes>"
            ]
          },
          "metadata": {
            "tags": []
          }
        }
      ]
    },
    {
      "cell_type": "code",
      "metadata": {
        "id": "n_GM0eCl1kDu",
        "colab_type": "code",
        "colab": {
          "base_uri": "https://localhost:8080/",
          "height": 282
        },
        "outputId": "8fe6d04b-3c03-42c4-e4c4-db843c4c3c5f"
      },
      "source": [
        "img = PIL.ImageOps.invert(img)\n",
        "img = img.convert('1')\n",
        "img = transform(img)\n",
        "plt.imshow(image_convert(img))"
      ],
      "execution_count": 18,
      "outputs": [
        {
          "output_type": "execute_result",
          "data": {
            "text/plain": [
              "<matplotlib.image.AxesImage at 0x7fb180062a90>"
            ]
          },
          "metadata": {
            "tags": []
          },
          "execution_count": 18
        },
        {
          "output_type": "display_data",
          "data": {
            "image/png": "[encoded data removed]",
            "text/plain": [
              "<Figure size 432x288 with 1 Axes>"
            ]
          },
          "metadata": {
            "tags": []
          }
        }
      ]
    },
    {
      "cell_type": "code",
      "metadata": {
        "id": "HXuqgRpL4ffK",
        "colab_type": "code",
        "colab": {
          "base_uri": "https://localhost:8080/",
          "height": 34
        },
        "outputId": "2bf65487-b4f5-4bc5-b16d-08b595f7c032"
      },
      "source": [
        "input_val = img.view(img.shape[0], -1)\n",
        "output_val = model(input_val)\n",
        "_, val_pred = torch.max(output_val, 1)\n",
        "print(val_pred.item())"
      ],
      "execution_count": 19,
      "outputs": [
        {
          "output_type": "stream",
          "text": [
            "5\n"
          ],
          "name": "stdout"
        }
      ]
    }
  ]
}